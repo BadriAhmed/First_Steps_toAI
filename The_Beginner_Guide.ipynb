{
  "nbformat": 4,
  "nbformat_minor": 0,
  "metadata": {
    "colab": {
      "name": "The Beginner Guide.ipynb",
      "provenance": [],
      "collapsed_sections": []
    },
    "kernelspec": {
      "name": "python3",
      "display_name": "Python 3"
    }
  },
  "cells": [
    {
      "cell_type": "markdown",
      "metadata": {
        "id": "BD3tqsFL2tpt",
        "colab_type": "text"
      },
      "source": [
        "#**The Ipynb Guide for Beginner : First_Steps_to_AI**\n",
        "#### AI Academy\n",
        "#### Badri Ahmed"
      ]
    },
    {
      "cell_type": "markdown",
      "metadata": {
        "id": "JVl49YzE3cj0",
        "colab_type": "text"
      },
      "source": [
        "\n",
        "\n",
        "*   #### **What is Ipynb ?**\n",
        "*   #### Ipynb or Interactive Python Notebook, is a document designed to help those who work with python language, to, write, add text and execute pieces of code separate blocks to organize their work and easily figure out errors and problems\n"
      ]
    },
    {
      "cell_type": "markdown",
      "metadata": {
        "id": "o8Ejawmi425a",
        "colab_type": "text"
      },
      "source": [
        "#### Cell types :\n",
        "\n",
        "\n",
        "1.   #### Code Cell : Where you can run python code\n",
        "2.   #### Text Cell : Where you can write text and comments, like this one\n"
      ]
    },
    {
      "cell_type": "code",
      "metadata": {
        "id": "XRGhyIQQ40DU",
        "colab_type": "code",
        "outputId": "8926f32b-d117-4bf3-83bd-e838a791be9e",
        "colab": {
          "base_uri": "https://localhost:8080/",
          "height": 35
        }
      },
      "source": [
        "#This is a code cell\n",
        "print('Hello AI Academy')"
      ],
      "execution_count": 43,
      "outputs": [
        {
          "output_type": "stream",
          "text": [
            "Hello AI Academy\n"
          ],
          "name": "stdout"
        }
      ]
    },
    {
      "cell_type": "markdown",
      "metadata": {
        "id": "U6mPQa0KH3sr",
        "colab_type": "text"
      },
      "source": [
        "#### Lets practice some a little now\n"
      ]
    },
    {
      "cell_type": "markdown",
      "metadata": {
        "id": "X_SxhK9sNBld",
        "colab_type": "text"
      },
      "source": [
        "#### First, we will load librairies that we will be using in this project\n",
        "#### When we load a library, we use the keyword **import**, and then we use an **alias**, so when we want to use function from a certain library, we use **alias. function_name**"
      ]
    },
    {
      "cell_type": "code",
      "metadata": {
        "id": "1srdjXLUNAI1",
        "colab_type": "code",
        "colab": {}
      },
      "source": [
        "import pandas as pd #pandas is a software library  for data manipulation and analysis\n",
        "import numpy as np\n",
        "import seaborn as sns\n",
        "import matplotlib.pyplot as plt # Seaborn and Matplotlib is a plotting and visualization library\n"
      ],
      "execution_count": 0,
      "outputs": []
    },
    {
      "cell_type": "markdown",
      "metadata": {
        "id": "m0Rn-fcENmZ3",
        "colab_type": "text"
      },
      "source": [
        "#### We will import our data from github, so we will provide the link for the .csv file, and then we will store them in a **Data frame**\n",
        "#### **Data frame** : is a table or a two-dimensional array-like structure in which each column contains values of one variable and each row contains one set of values from each column.\n"
      ]
    },
    {
      "cell_type": "code",
      "metadata": {
        "id": "XImcJ13JNZc0",
        "colab_type": "code",
        "colab": {}
      },
      "source": [
        "data_url='https://raw.githubusercontent.com/BadriAhmed/First_Steps_toAI/master/glass.csv' # link for our data"
      ],
      "execution_count": 0,
      "outputs": []
    },
    {
      "cell_type": "code",
      "metadata": {
        "id": "q2_I45py2rPZ",
        "colab_type": "code",
        "colab": {}
      },
      "source": [
        "df = pd.read_csv(data_url) # we use the alias for pandas wich is pd, and we read the file from the provided link"
      ],
      "execution_count": 0,
      "outputs": []
    },
    {
      "cell_type": "markdown",
      "metadata": {
        "id": "O7A4HmLWPiwR",
        "colab_type": "text"
      },
      "source": [
        "#### About the dataset : Glass Classification \n",
        "#####**Attribute Information**:\n",
        "\n",
        "*   RI: refractive index\n",
        "*   Na: Sodium (unit measurement: weight percent in corresponding oxide, as are attributes 4-10)\n",
        "*Mg: Magnesium\n",
        "*Al: Aluminum\n",
        "*Si: Silicon\n",
        "*K: Potassium\n",
        "*Ca: Calcium\n",
        "*Ba: Barium\n",
        "*Fe: Iron\n",
        "*Type of glass: (class attribute) : \n",
        "1.   building_windows_float_processed\n",
        "2.   building_windows_non_float_processed\n",
        "3. vehicle_windows_float_processed\n",
        "4. vehicle_windows_non_float_processed (none in this database)\n",
        "5. containers\n",
        "6. tableware \n",
        "7. headlamps\n",
        "\n",
        "#### Our Task is to create a model who is able to predict the glass type based on its attributes"
      ]
    },
    {
      "cell_type": "markdown",
      "metadata": {
        "id": "SFTpRc46USoW",
        "colab_type": "text"
      },
      "source": [
        "### **1. Exploring our Data**"
      ]
    },
    {
      "cell_type": "markdown",
      "metadata": {
        "id": "L5yPC9RmVQ3W",
        "colab_type": "text"
      },
      "source": [
        "#### **Shape, Describe, Head, Tail and Null values count**\n",
        "\n"
      ]
    },
    {
      "cell_type": "code",
      "metadata": {
        "id": "WUoigjX_VbrZ",
        "colab_type": "code",
        "outputId": "d8ab2b6e-bb6d-4a3b-d562-4f6f14657a24",
        "colab": {
          "base_uri": "https://localhost:8080/",
          "height": 35
        }
      },
      "source": [
        "df.shape #Number of rows and columns, in a 2D array (our case)"
      ],
      "execution_count": 47,
      "outputs": [
        {
          "output_type": "execute_result",
          "data": {
            "text/plain": [
              "(214, 10)"
            ]
          },
          "metadata": {
            "tags": []
          },
          "execution_count": 47
        }
      ]
    },
    {
      "cell_type": "code",
      "metadata": {
        "id": "ixYydwjgYJPt",
        "colab_type": "code",
        "outputId": "7181ea41-643b-4a3a-944d-4a113b86ca9a",
        "colab": {
          "base_uri": "https://localhost:8080/",
          "height": 217
        }
      },
      "source": [
        "df.isnull().sum() # We will see now the total of null values in each row using 'isnull' to identify null values, and 'sum' to calculate the total"
      ],
      "execution_count": 48,
      "outputs": [
        {
          "output_type": "execute_result",
          "data": {
            "text/plain": [
              "RI      0\n",
              "Na      0\n",
              "Mg      0\n",
              "Al      0\n",
              "Si      0\n",
              "K       0\n",
              "Ca      0\n",
              "Ba      0\n",
              "Fe      0\n",
              "Type    0\n",
              "dtype: int64"
            ]
          },
          "metadata": {
            "tags": []
          },
          "execution_count": 48
        }
      ]
    },
    {
      "cell_type": "code",
      "metadata": {
        "id": "JM-oFO9yO1qd",
        "colab_type": "code",
        "outputId": "b30f06e9-778a-448f-c0c6-7aeead7a0be5",
        "colab": {
          "base_uri": "https://localhost:8080/",
          "height": 198
        }
      },
      "source": [
        "df.head() # head() function show us the first 5 rows of our dataframe, if you want to see 10 rows for example use df.head(10)"
      ],
      "execution_count": 49,
      "outputs": [
        {
          "output_type": "execute_result",
          "data": {
            "text/html": [
              "<div>\n",
              "<style scoped>\n",
              "    .dataframe tbody tr th:only-of-type {\n",
              "        vertical-align: middle;\n",
              "    }\n",
              "\n",
              "    .dataframe tbody tr th {\n",
              "        vertical-align: top;\n",
              "    }\n",
              "\n",
              "    .dataframe thead th {\n",
              "        text-align: right;\n",
              "    }\n",
              "</style>\n",
              "<table border=\"1\" class=\"dataframe\">\n",
              "  <thead>\n",
              "    <tr style=\"text-align: right;\">\n",
              "      <th></th>\n",
              "      <th>RI</th>\n",
              "      <th>Na</th>\n",
              "      <th>Mg</th>\n",
              "      <th>Al</th>\n",
              "      <th>Si</th>\n",
              "      <th>K</th>\n",
              "      <th>Ca</th>\n",
              "      <th>Ba</th>\n",
              "      <th>Fe</th>\n",
              "      <th>Type</th>\n",
              "    </tr>\n",
              "  </thead>\n",
              "  <tbody>\n",
              "    <tr>\n",
              "      <th>0</th>\n",
              "      <td>1.52101</td>\n",
              "      <td>13.64</td>\n",
              "      <td>4.49</td>\n",
              "      <td>1.10</td>\n",
              "      <td>71.78</td>\n",
              "      <td>0.06</td>\n",
              "      <td>8.75</td>\n",
              "      <td>0.0</td>\n",
              "      <td>0.0</td>\n",
              "      <td>1</td>\n",
              "    </tr>\n",
              "    <tr>\n",
              "      <th>1</th>\n",
              "      <td>1.51761</td>\n",
              "      <td>13.89</td>\n",
              "      <td>3.60</td>\n",
              "      <td>1.36</td>\n",
              "      <td>72.73</td>\n",
              "      <td>0.48</td>\n",
              "      <td>7.83</td>\n",
              "      <td>0.0</td>\n",
              "      <td>0.0</td>\n",
              "      <td>1</td>\n",
              "    </tr>\n",
              "    <tr>\n",
              "      <th>2</th>\n",
              "      <td>1.51618</td>\n",
              "      <td>13.53</td>\n",
              "      <td>3.55</td>\n",
              "      <td>1.54</td>\n",
              "      <td>72.99</td>\n",
              "      <td>0.39</td>\n",
              "      <td>7.78</td>\n",
              "      <td>0.0</td>\n",
              "      <td>0.0</td>\n",
              "      <td>1</td>\n",
              "    </tr>\n",
              "    <tr>\n",
              "      <th>3</th>\n",
              "      <td>1.51766</td>\n",
              "      <td>13.21</td>\n",
              "      <td>3.69</td>\n",
              "      <td>1.29</td>\n",
              "      <td>72.61</td>\n",
              "      <td>0.57</td>\n",
              "      <td>8.22</td>\n",
              "      <td>0.0</td>\n",
              "      <td>0.0</td>\n",
              "      <td>1</td>\n",
              "    </tr>\n",
              "    <tr>\n",
              "      <th>4</th>\n",
              "      <td>1.51742</td>\n",
              "      <td>13.27</td>\n",
              "      <td>3.62</td>\n",
              "      <td>1.24</td>\n",
              "      <td>73.08</td>\n",
              "      <td>0.55</td>\n",
              "      <td>8.07</td>\n",
              "      <td>0.0</td>\n",
              "      <td>0.0</td>\n",
              "      <td>1</td>\n",
              "    </tr>\n",
              "  </tbody>\n",
              "</table>\n",
              "</div>"
            ],
            "text/plain": [
              "        RI     Na    Mg    Al     Si     K    Ca   Ba   Fe  Type\n",
              "0  1.52101  13.64  4.49  1.10  71.78  0.06  8.75  0.0  0.0     1\n",
              "1  1.51761  13.89  3.60  1.36  72.73  0.48  7.83  0.0  0.0     1\n",
              "2  1.51618  13.53  3.55  1.54  72.99  0.39  7.78  0.0  0.0     1\n",
              "3  1.51766  13.21  3.69  1.29  72.61  0.57  8.22  0.0  0.0     1\n",
              "4  1.51742  13.27  3.62  1.24  73.08  0.55  8.07  0.0  0.0     1"
            ]
          },
          "metadata": {
            "tags": []
          },
          "execution_count": 49
        }
      ]
    },
    {
      "cell_type": "code",
      "metadata": {
        "id": "o4AuTG-bPB0G",
        "colab_type": "code",
        "outputId": "fe2255b2-5375-4237-ce21-bd00f8b45611",
        "colab": {
          "base_uri": "https://localhost:8080/",
          "height": 198
        }
      },
      "source": [
        "df.tail() # tail() function show us the first 5 rows of our dataframe"
      ],
      "execution_count": 50,
      "outputs": [
        {
          "output_type": "execute_result",
          "data": {
            "text/html": [
              "<div>\n",
              "<style scoped>\n",
              "    .dataframe tbody tr th:only-of-type {\n",
              "        vertical-align: middle;\n",
              "    }\n",
              "\n",
              "    .dataframe tbody tr th {\n",
              "        vertical-align: top;\n",
              "    }\n",
              "\n",
              "    .dataframe thead th {\n",
              "        text-align: right;\n",
              "    }\n",
              "</style>\n",
              "<table border=\"1\" class=\"dataframe\">\n",
              "  <thead>\n",
              "    <tr style=\"text-align: right;\">\n",
              "      <th></th>\n",
              "      <th>RI</th>\n",
              "      <th>Na</th>\n",
              "      <th>Mg</th>\n",
              "      <th>Al</th>\n",
              "      <th>Si</th>\n",
              "      <th>K</th>\n",
              "      <th>Ca</th>\n",
              "      <th>Ba</th>\n",
              "      <th>Fe</th>\n",
              "      <th>Type</th>\n",
              "    </tr>\n",
              "  </thead>\n",
              "  <tbody>\n",
              "    <tr>\n",
              "      <th>209</th>\n",
              "      <td>1.51623</td>\n",
              "      <td>14.14</td>\n",
              "      <td>0.0</td>\n",
              "      <td>2.88</td>\n",
              "      <td>72.61</td>\n",
              "      <td>0.08</td>\n",
              "      <td>9.18</td>\n",
              "      <td>1.06</td>\n",
              "      <td>0.0</td>\n",
              "      <td>7</td>\n",
              "    </tr>\n",
              "    <tr>\n",
              "      <th>210</th>\n",
              "      <td>1.51685</td>\n",
              "      <td>14.92</td>\n",
              "      <td>0.0</td>\n",
              "      <td>1.99</td>\n",
              "      <td>73.06</td>\n",
              "      <td>0.00</td>\n",
              "      <td>8.40</td>\n",
              "      <td>1.59</td>\n",
              "      <td>0.0</td>\n",
              "      <td>7</td>\n",
              "    </tr>\n",
              "    <tr>\n",
              "      <th>211</th>\n",
              "      <td>1.52065</td>\n",
              "      <td>14.36</td>\n",
              "      <td>0.0</td>\n",
              "      <td>2.02</td>\n",
              "      <td>73.42</td>\n",
              "      <td>0.00</td>\n",
              "      <td>8.44</td>\n",
              "      <td>1.64</td>\n",
              "      <td>0.0</td>\n",
              "      <td>7</td>\n",
              "    </tr>\n",
              "    <tr>\n",
              "      <th>212</th>\n",
              "      <td>1.51651</td>\n",
              "      <td>14.38</td>\n",
              "      <td>0.0</td>\n",
              "      <td>1.94</td>\n",
              "      <td>73.61</td>\n",
              "      <td>0.00</td>\n",
              "      <td>8.48</td>\n",
              "      <td>1.57</td>\n",
              "      <td>0.0</td>\n",
              "      <td>7</td>\n",
              "    </tr>\n",
              "    <tr>\n",
              "      <th>213</th>\n",
              "      <td>1.51711</td>\n",
              "      <td>14.23</td>\n",
              "      <td>0.0</td>\n",
              "      <td>2.08</td>\n",
              "      <td>73.36</td>\n",
              "      <td>0.00</td>\n",
              "      <td>8.62</td>\n",
              "      <td>1.67</td>\n",
              "      <td>0.0</td>\n",
              "      <td>7</td>\n",
              "    </tr>\n",
              "  </tbody>\n",
              "</table>\n",
              "</div>"
            ],
            "text/plain": [
              "          RI     Na   Mg    Al     Si     K    Ca    Ba   Fe  Type\n",
              "209  1.51623  14.14  0.0  2.88  72.61  0.08  9.18  1.06  0.0     7\n",
              "210  1.51685  14.92  0.0  1.99  73.06  0.00  8.40  1.59  0.0     7\n",
              "211  1.52065  14.36  0.0  2.02  73.42  0.00  8.44  1.64  0.0     7\n",
              "212  1.51651  14.38  0.0  1.94  73.61  0.00  8.48  1.57  0.0     7\n",
              "213  1.51711  14.23  0.0  2.08  73.36  0.00  8.62  1.67  0.0     7"
            ]
          },
          "metadata": {
            "tags": []
          },
          "execution_count": 50
        }
      ]
    },
    {
      "cell_type": "code",
      "metadata": {
        "id": "6ZSbg7a_Xulu",
        "colab_type": "code",
        "outputId": "eac85cf0-a66f-431c-de91-1bd8d91457af",
        "colab": {
          "base_uri": "https://localhost:8080/",
          "height": 288
        }
      },
      "source": [
        "df.describe() # describe Generate descriptive statistics that summarize the dataset distribution, excluding null values."
      ],
      "execution_count": 51,
      "outputs": [
        {
          "output_type": "execute_result",
          "data": {
            "text/html": [
              "<div>\n",
              "<style scoped>\n",
              "    .dataframe tbody tr th:only-of-type {\n",
              "        vertical-align: middle;\n",
              "    }\n",
              "\n",
              "    .dataframe tbody tr th {\n",
              "        vertical-align: top;\n",
              "    }\n",
              "\n",
              "    .dataframe thead th {\n",
              "        text-align: right;\n",
              "    }\n",
              "</style>\n",
              "<table border=\"1\" class=\"dataframe\">\n",
              "  <thead>\n",
              "    <tr style=\"text-align: right;\">\n",
              "      <th></th>\n",
              "      <th>RI</th>\n",
              "      <th>Na</th>\n",
              "      <th>Mg</th>\n",
              "      <th>Al</th>\n",
              "      <th>Si</th>\n",
              "      <th>K</th>\n",
              "      <th>Ca</th>\n",
              "      <th>Ba</th>\n",
              "      <th>Fe</th>\n",
              "      <th>Type</th>\n",
              "    </tr>\n",
              "  </thead>\n",
              "  <tbody>\n",
              "    <tr>\n",
              "      <th>count</th>\n",
              "      <td>214.000000</td>\n",
              "      <td>214.000000</td>\n",
              "      <td>214.000000</td>\n",
              "      <td>214.000000</td>\n",
              "      <td>214.000000</td>\n",
              "      <td>214.000000</td>\n",
              "      <td>214.000000</td>\n",
              "      <td>214.000000</td>\n",
              "      <td>214.000000</td>\n",
              "      <td>214.000000</td>\n",
              "    </tr>\n",
              "    <tr>\n",
              "      <th>mean</th>\n",
              "      <td>1.518365</td>\n",
              "      <td>13.407850</td>\n",
              "      <td>2.684533</td>\n",
              "      <td>1.444907</td>\n",
              "      <td>72.650935</td>\n",
              "      <td>0.497056</td>\n",
              "      <td>8.956963</td>\n",
              "      <td>0.175047</td>\n",
              "      <td>0.057009</td>\n",
              "      <td>2.780374</td>\n",
              "    </tr>\n",
              "    <tr>\n",
              "      <th>std</th>\n",
              "      <td>0.003037</td>\n",
              "      <td>0.816604</td>\n",
              "      <td>1.442408</td>\n",
              "      <td>0.499270</td>\n",
              "      <td>0.774546</td>\n",
              "      <td>0.652192</td>\n",
              "      <td>1.423153</td>\n",
              "      <td>0.497219</td>\n",
              "      <td>0.097439</td>\n",
              "      <td>2.103739</td>\n",
              "    </tr>\n",
              "    <tr>\n",
              "      <th>min</th>\n",
              "      <td>1.511150</td>\n",
              "      <td>10.730000</td>\n",
              "      <td>0.000000</td>\n",
              "      <td>0.290000</td>\n",
              "      <td>69.810000</td>\n",
              "      <td>0.000000</td>\n",
              "      <td>5.430000</td>\n",
              "      <td>0.000000</td>\n",
              "      <td>0.000000</td>\n",
              "      <td>1.000000</td>\n",
              "    </tr>\n",
              "    <tr>\n",
              "      <th>25%</th>\n",
              "      <td>1.516523</td>\n",
              "      <td>12.907500</td>\n",
              "      <td>2.115000</td>\n",
              "      <td>1.190000</td>\n",
              "      <td>72.280000</td>\n",
              "      <td>0.122500</td>\n",
              "      <td>8.240000</td>\n",
              "      <td>0.000000</td>\n",
              "      <td>0.000000</td>\n",
              "      <td>1.000000</td>\n",
              "    </tr>\n",
              "    <tr>\n",
              "      <th>50%</th>\n",
              "      <td>1.517680</td>\n",
              "      <td>13.300000</td>\n",
              "      <td>3.480000</td>\n",
              "      <td>1.360000</td>\n",
              "      <td>72.790000</td>\n",
              "      <td>0.555000</td>\n",
              "      <td>8.600000</td>\n",
              "      <td>0.000000</td>\n",
              "      <td>0.000000</td>\n",
              "      <td>2.000000</td>\n",
              "    </tr>\n",
              "    <tr>\n",
              "      <th>75%</th>\n",
              "      <td>1.519157</td>\n",
              "      <td>13.825000</td>\n",
              "      <td>3.600000</td>\n",
              "      <td>1.630000</td>\n",
              "      <td>73.087500</td>\n",
              "      <td>0.610000</td>\n",
              "      <td>9.172500</td>\n",
              "      <td>0.000000</td>\n",
              "      <td>0.100000</td>\n",
              "      <td>3.000000</td>\n",
              "    </tr>\n",
              "    <tr>\n",
              "      <th>max</th>\n",
              "      <td>1.533930</td>\n",
              "      <td>17.380000</td>\n",
              "      <td>4.490000</td>\n",
              "      <td>3.500000</td>\n",
              "      <td>75.410000</td>\n",
              "      <td>6.210000</td>\n",
              "      <td>16.190000</td>\n",
              "      <td>3.150000</td>\n",
              "      <td>0.510000</td>\n",
              "      <td>7.000000</td>\n",
              "    </tr>\n",
              "  </tbody>\n",
              "</table>\n",
              "</div>"
            ],
            "text/plain": [
              "               RI          Na          Mg  ...          Ba          Fe        Type\n",
              "count  214.000000  214.000000  214.000000  ...  214.000000  214.000000  214.000000\n",
              "mean     1.518365   13.407850    2.684533  ...    0.175047    0.057009    2.780374\n",
              "std      0.003037    0.816604    1.442408  ...    0.497219    0.097439    2.103739\n",
              "min      1.511150   10.730000    0.000000  ...    0.000000    0.000000    1.000000\n",
              "25%      1.516523   12.907500    2.115000  ...    0.000000    0.000000    1.000000\n",
              "50%      1.517680   13.300000    3.480000  ...    0.000000    0.000000    2.000000\n",
              "75%      1.519157   13.825000    3.600000  ...    0.000000    0.100000    3.000000\n",
              "max      1.533930   17.380000    4.490000  ...    3.150000    0.510000    7.000000\n",
              "\n",
              "[8 rows x 10 columns]"
            ]
          },
          "metadata": {
            "tags": []
          },
          "execution_count": 51
        }
      ]
    },
    {
      "cell_type": "markdown",
      "metadata": {
        "id": "HNWuVWc7cTTs",
        "colab_type": "text"
      },
      "source": [
        "#### **Plotting and visualisation**\n",
        "For more info about char types, you can [check this website](https://365datascience.com/chart-types-and-how-to-select-the-right-one/)"
      ]
    },
    {
      "cell_type": "code",
      "metadata": {
        "id": "jyG5O4p2VPpg",
        "colab_type": "code",
        "outputId": "0abb1b6c-0196-4db2-8c19-606b1062b6d4",
        "colab": {
          "base_uri": "https://localhost:8080/",
          "height": 35
        }
      },
      "source": [
        "#First, we will count each target variable using Counter \n",
        "from collections import Counter\n",
        "Counter(df['Type'])"
      ],
      "execution_count": 52,
      "outputs": [
        {
          "output_type": "execute_result",
          "data": {
            "text/plain": [
              "Counter({1: 70, 2: 76, 3: 17, 5: 13, 6: 9, 7: 29})"
            ]
          },
          "metadata": {
            "tags": []
          },
          "execution_count": 52
        }
      ]
    },
    {
      "cell_type": "code",
      "metadata": {
        "id": "x-j4O6-aXbiR",
        "colab_type": "code",
        "outputId": "3ad19ae1-6371-429c-cbc9-85d5d719e258",
        "colab": {
          "base_uri": "https://localhost:8080/",
          "height": 297
        }
      },
      "source": [
        "#Now we will use a barplot to diplay the reasult using Seaborn\n",
        "sns.countplot(x='Type', data=df)"
      ],
      "execution_count": 53,
      "outputs": [
        {
          "output_type": "execute_result",
          "data": {
            "text/plain": [
              "<matplotlib.axes._subplots.AxesSubplot at 0x7fa0ad6824a8>"
            ]
          },
          "metadata": {
            "tags": []
          },
          "execution_count": 53
        },
        {
          "output_type": "display_data",
          "data": {
            "image/png": "[encoded data removed]",
            "text/plain": [
              "<Figure size 432x288 with 1 Axes>"
            ]
          },
          "metadata": {
            "tags": []
          }
        }
      ]
    },
    {
      "cell_type": "markdown",
      "metadata": {
        "id": "QpoUZOilf5Mn",
        "colab_type": "text"
      },
      "source": [
        "#### Next, we will plot a boxplot for each column against target variable to check for outliers\n",
        "#### **What is an Outlier?** : it's been an observation point that is distant from other observations\n"
      ]
    },
    {
      "cell_type": "code",
      "metadata": {
        "id": "4ec-uJfHfoXt",
        "colab_type": "code",
        "outputId": "d10c333b-cc07-486d-a760-e1f4493c2b1c",
        "colab": {
          "base_uri": "https://localhost:8080/",
          "height": 301
        }
      },
      "source": [
        "sns.boxplot('Type', 'RI', data =df)"
      ],
      "execution_count": 54,
      "outputs": [
        {
          "output_type": "execute_result",
          "data": {
            "text/plain": [
              "<matplotlib.axes._subplots.AxesSubplot at 0x7fa0ad5f8b00>"
            ]
          },
          "metadata": {
            "tags": []
          },
          "execution_count": 54
        },
        {
          "output_type": "display_data",
          "data": {
            "image/png": "[encoded data removed]",
            "text/plain": [
              "<Figure size 432x288 with 1 Axes>"
            ]
          },
          "metadata": {
            "tags": []
          }
        }
      ]
    },
    {
      "cell_type": "code",
      "metadata": {
        "id": "fRO4Iqnqglh_",
        "colab_type": "code",
        "colab": {
          "base_uri": "https://localhost:8080/",
          "height": 297
        },
        "outputId": "74cc7f9f-85e0-45eb-9797-e8a7a0aeee42"
      },
      "source": [
        "sns.boxplot('Type', 'Na', data =df)"
      ],
      "execution_count": 56,
      "outputs": [
        {
          "output_type": "execute_result",
          "data": {
            "text/plain": [
              "<matplotlib.axes._subplots.AxesSubplot at 0x7fa0ad4e44a8>"
            ]
          },
          "metadata": {
            "tags": []
          },
          "execution_count": 56
        },
        {
          "output_type": "display_data",
          "data": {
            "image/png": "[encoded data removed]",
            "text/plain": [
              "<Figure size 432x288 with 1 Axes>"
            ]
          },
          "metadata": {
            "tags": []
          }
        }
      ]
    },
    {
      "cell_type": "code",
      "metadata": {
        "id": "EgLMvDrslg6j",
        "colab_type": "code",
        "colab": {
          "base_uri": "https://localhost:8080/",
          "height": 297
        },
        "outputId": "92c99423-f788-48e0-be0d-4aab78ecbeeb"
      },
      "source": [
        "sns.boxplot('Type', 'Mg', data =df)"
      ],
      "execution_count": 58,
      "outputs": [
        {
          "output_type": "execute_result",
          "data": {
            "text/plain": [
              "<matplotlib.axes._subplots.AxesSubplot at 0x7fa0ad3d7320>"
            ]
          },
          "metadata": {
            "tags": []
          },
          "execution_count": 58
        },
        {
          "output_type": "display_data",
          "data": {
            "image/png": "[encoded data removed]",
            "text/plain": [
              "<Figure size 432x288 with 1 Axes>"
            ]
          },
          "metadata": {
            "tags": []
          }
        }
      ]
    },
    {
      "cell_type": "code",
      "metadata": {
        "id": "WHiv7FOSliky",
        "colab_type": "code",
        "colab": {
          "base_uri": "https://localhost:8080/",
          "height": 297
        },
        "outputId": "d77a3ad2-ea78-4274-c0a0-c916c97912c9"
      },
      "source": [
        "sns.boxplot('Type', 'Al', data =df)"
      ],
      "execution_count": 59,
      "outputs": [
        {
          "output_type": "execute_result",
          "data": {
            "text/plain": [
              "<matplotlib.axes._subplots.AxesSubplot at 0x7fa0ad4279e8>"
            ]
          },
          "metadata": {
            "tags": []
          },
          "execution_count": 59
        },
        {
          "output_type": "display_data",
          "data": {
            "image/png": "[encoded data removed]",
            "text/plain": [
              "<Figure size 432x288 with 1 Axes>"
            ]
          },
          "metadata": {
            "tags": []
          }
        }
      ]
    },
    {
      "cell_type": "code",
      "metadata": {
        "id": "wuQmOnoSmOiA",
        "colab_type": "code",
        "colab": {
          "base_uri": "https://localhost:8080/",
          "height": 297
        },
        "outputId": "76b39b2e-ae99-48e0-ce04-ac391171e3cb"
      },
      "source": [
        "sns.boxplot('Type', 'Si', data =df)"
      ],
      "execution_count": 60,
      "outputs": [
        {
          "output_type": "execute_result",
          "data": {
            "text/plain": [
              "<matplotlib.axes._subplots.AxesSubplot at 0x7fa0ad1dce10>"
            ]
          },
          "metadata": {
            "tags": []
          },
          "execution_count": 60
        },
        {
          "output_type": "display_data",
          "data": {
            "image/png": "[encoded data removed]",
            "text/plain": [
              "<Figure size 432x288 with 1 Axes>"
            ]
          },
          "metadata": {
            "tags": []
          }
        }
      ]
    },
    {
      "cell_type": "code",
      "metadata": {
        "id": "FZxehP4_m6Vy",
        "colab_type": "code",
        "colab": {
          "base_uri": "https://localhost:8080/",
          "height": 297
        },
        "outputId": "8c4c23f0-e6d1-44b5-b6ae-54b316c94f6f"
      },
      "source": [
        "sns.boxplot('Type', 'K', data =df)"
      ],
      "execution_count": 61,
      "outputs": [
        {
          "output_type": "execute_result",
          "data": {
            "text/plain": [
              "<matplotlib.axes._subplots.AxesSubplot at 0x7fa0ad1bd470>"
            ]
          },
          "metadata": {
            "tags": []
          },
          "execution_count": 61
        },
        {
          "output_type": "display_data",
          "data": {
            "image/png": "[encoded data removed]",
            "text/plain": [
              "<Figure size 432x288 with 1 Axes>"
            ]
          },
          "metadata": {
            "tags": []
          }
        }
      ]
    },
    {
      "cell_type": "code",
      "metadata": {
        "id": "imvDb7r1m-7p",
        "colab_type": "code",
        "colab": {
          "base_uri": "https://localhost:8080/",
          "height": 297
        },
        "outputId": "ca454819-1e2b-4ade-8d93-d8b6bd2e9787"
      },
      "source": [
        "sns.boxplot('Type', 'Ca', data =df)"
      ],
      "execution_count": 62,
      "outputs": [
        {
          "output_type": "execute_result",
          "data": {
            "text/plain": [
              "<matplotlib.axes._subplots.AxesSubplot at 0x7fa0ad03f278>"
            ]
          },
          "metadata": {
            "tags": []
          },
          "execution_count": 62
        },
        {
          "output_type": "display_data",
          "data": {
            "image/png": "[encoded data removed]",
            "text/plain": [
              "<Figure size 432x288 with 1 Axes>"
            ]
          },
          "metadata": {
            "tags": []
          }
        }
      ]
    },
    {
      "cell_type": "code",
      "metadata": {
        "id": "i6mikRGznCiu",
        "colab_type": "code",
        "colab": {
          "base_uri": "https://localhost:8080/",
          "height": 297
        },
        "outputId": "8ed0c258-d0f3-43c4-ba2f-9bd41a2f4943"
      },
      "source": [
        "sns.boxplot('Type', 'Ba', data =df)"
      ],
      "execution_count": 63,
      "outputs": [
        {
          "output_type": "execute_result",
          "data": {
            "text/plain": [
              "<matplotlib.axes._subplots.AxesSubplot at 0x7fa0acf357b8>"
            ]
          },
          "metadata": {
            "tags": []
          },
          "execution_count": 63
        },
        {
          "output_type": "display_data",
          "data": {
            "image/png": "[encoded data removed]",
            "text/plain": [
              "<Figure size 432x288 with 1 Axes>"
            ]
          },
          "metadata": {
            "tags": []
          }
        }
      ]
    },
    {
      "cell_type": "code",
      "metadata": {
        "id": "Mx1Kfbu-nFMI",
        "colab_type": "code",
        "colab": {
          "base_uri": "https://localhost:8080/",
          "height": 297
        },
        "outputId": "93e85012-0089-4e3a-b1c2-43bdd50e9724"
      },
      "source": [
        "sns.boxplot('Type', 'Fe', data =df)"
      ],
      "execution_count": 64,
      "outputs": [
        {
          "output_type": "execute_result",
          "data": {
            "text/plain": [
              "<matplotlib.axes._subplots.AxesSubplot at 0x7fa0acedf320>"
            ]
          },
          "metadata": {
            "tags": []
          },
          "execution_count": 64
        },
        {
          "output_type": "display_data",
          "data": {
            "image/png": "[encoded data removed]",
            "text/plain": [
              "<Figure size 432x288 with 1 Axes>"
            ]
          },
          "metadata": {
            "tags": []
          }
        }
      ]
    },
    {
      "cell_type": "markdown",
      "metadata": {
        "id": "TKxm4XsovXgr",
        "colab_type": "text"
      },
      "source": [
        "#### Next, we will separate the Target values from Features values, and in our"
      ]
    },
    {
      "cell_type": "code",
      "metadata": {
        "id": "GGlUZLkbqiAr",
        "colab_type": "code",
        "colab": {}
      },
      "source": [
        "X= df.iloc[:,:9]\n",
        "y = df.Type"
      ],
      "execution_count": 0,
      "outputs": []
    },
    {
      "cell_type": "markdown",
      "metadata": {
        "id": "jvc9qHkrvsLE",
        "colab_type": "text"
      },
      "source": [
        "#### Now, we are going to standardize the features, in other words, we will simply calculate a new value:\n",
        "#### **NewValue = (OldValue - Mean) / Standard Deviation**"
      ]
    },
    {
      "cell_type": "code",
      "metadata": {
        "id": "IrEbKjeUnJ7x",
        "colab_type": "code",
        "colab": {}
      },
      "source": [
        "from sklearn.preprocessing import StandardScaler\n",
        "sc = StandardScaler()\n",
        "dfScale = sc.fit_transform(X)"
      ],
      "execution_count": 0,
      "outputs": []
    },
    {
      "cell_type": "markdown",
      "metadata": {
        "id": "Vuwp7vRnxDwM",
        "colab_type": "text"
      },
      "source": [
        "#### Next we will split our data into **Train** and **Test** data as **75%/25% Split** Random_state is used to shuffle the data while splitting, so we don't end up with test data with only 1 or 2 Target Values\n"
      ]
    },
    {
      "cell_type": "code",
      "metadata": {
        "id": "1wxUstjcq3VS",
        "colab_type": "code",
        "colab": {}
      },
      "source": [
        "from sklearn.model_selection import train_test_split\n",
        "x_train, x_test, y_train, y_test = train_test_split(X, y, test_size = 0.25,random_state=2020)"
      ],
      "execution_count": 0,
      "outputs": []
    },
    {
      "cell_type": "markdown",
      "metadata": {
        "id": "BYcb53weyEHM",
        "colab_type": "text"
      },
      "source": [
        "### **2.Modeling**"
      ]
    },
    {
      "cell_type": "markdown",
      "metadata": {
        "id": "lxA4JoFGyJEf",
        "colab_type": "text"
      },
      "source": [
        "#### We will be using a machine learning algorithm called **'Random Forest'**, which is based on **'Decision Trees'** ([Use this link for more details](https://towardsdatascience.com/understanding-random-forest-58381e0602d2))"
      ]
    },
    {
      "cell_type": "code",
      "metadata": {
        "id": "EO9L7HBVrusE",
        "colab_type": "code",
        "colab": {}
      },
      "source": [
        "#First we will try with 50 decision tree, and a Max depth of 5\n",
        "from sklearn.ensemble import RandomForestClassifier\n",
        "model = RandomForestClassifier(n_estimators=50,max_depth=5)\n",
        "#Here we train our model\n",
        "model.fit(x_train, y_train)\n",
        "#And finally, we use the model , and store them on predict variable\n",
        "predict=model.predict(x_test)"
      ],
      "execution_count": 0,
      "outputs": []
    },
    {
      "cell_type": "code",
      "metadata": {
        "id": "WuOXqQjPsZq8",
        "colab_type": "code",
        "colab": {}
      },
      "source": [
        "#Now we test the accuracy of our model\n",
        "from sklearn.metrics import accuracy_score"
      ],
      "execution_count": 0,
      "outputs": []
    },
    {
      "cell_type": "code",
      "metadata": {
        "id": "VvIwvRMcscis",
        "colab_type": "code",
        "colab": {
          "base_uri": "https://localhost:8080/",
          "height": 35
        },
        "outputId": "5316d76a-708a-467a-883a-b3f60389220d"
      },
      "source": [
        "print(accuracy_score(y_test,predict))"
      ],
      "execution_count": 125,
      "outputs": [
        {
          "output_type": "stream",
          "text": [
            "0.6851851851851852\n"
          ],
          "name": "stdout"
        }
      ]
    },
    {
      "cell_type": "markdown",
      "metadata": {
        "id": "o4S2CgItzjMG",
        "colab_type": "text"
      },
      "source": [
        "#### In our first try, we obtained 68.51% accuracy, let's try and tune our model a little\n",
        "\n"
      ]
    },
    {
      "cell_type": "code",
      "metadata": {
        "id": "REaCxq1dtl8Y",
        "colab_type": "code",
        "colab": {}
      },
      "source": [
        "#Now, we will use 300 decision tree, with a Max depth of 20\n",
        "model2 = RandomForestClassifier(n_estimators=300,max_depth=20)\n",
        "model2.fit(x_train, y_train)\n",
        "predict2=model2.predict(x_test)"
      ],
      "execution_count": 0,
      "outputs": []
    },
    {
      "cell_type": "code",
      "metadata": {
        "id": "nQRr1xzVtoZ4",
        "colab_type": "code",
        "colab": {
          "base_uri": "https://localhost:8080/",
          "height": 35
        },
        "outputId": "eeb06953-f908-4ee7-a890-9807505df8ae"
      },
      "source": [
        "print(accuracy_score(y_test,predict2))"
      ],
      "execution_count": 145,
      "outputs": [
        {
          "output_type": "stream",
          "text": [
            "0.7222222222222222\n"
          ],
          "name": "stdout"
        }
      ]
    },
    {
      "cell_type": "markdown",
      "metadata": {
        "id": "27JmPO1w0fW0",
        "colab_type": "text"
      },
      "source": [
        "#### Now we got 72.22% accuracy, that's better, but we cab certainly does better, why don't you try yourself? Use other algorithm maybe? Or reduce the number of your features using PCA? Go ahead, the ground is yours!\n"
      ]
    },
    {
      "cell_type": "code",
      "metadata": {
        "id": "GBUYrBWPspyl",
        "colab_type": "code",
        "colab": {}
      },
      "source": [
        ""
      ],
      "execution_count": 0,
      "outputs": []
    }
  ]
}